{
 "cells": [
  {
   "cell_type": "code",
   "execution_count": 4,
   "id": "1a5bdac5",
   "metadata": {},
   "outputs": [],
   "source": [
    "## copy and broadcasting\n",
    "import numpy as nm\n",
    "\n"
   ]
  },
  {
   "cell_type": "code",
   "execution_count": 5,
   "id": "99bf18b4",
   "metadata": {},
   "outputs": [
    {
     "name": "stdout",
     "output_type": "stream",
     "text": [
      "[ 1  2  3  4  5  6  7  8  9 10]\n",
      "[  1   2   3 100 100 100 100 100 100 100]\n",
      "[  1   2   3 100 100 100 100 100 100 100]\n"
     ]
    }
   ],
   "source": [
    "arr=nm.array([1,2,3,4,5,6,7,8,9,10])\n",
    "print(arr)\n",
    "arr2=arr\n",
    "arr2[3:]=100\n",
    "print(arr2)\n",
    "print(arr)\n",
    "## when we make change to copied array then it reflect in original array \n",
    "## means arr1=arr copy by  refernece"
   ]
  },
  {
   "cell_type": "code",
   "execution_count": 5,
   "id": "c4a9e24c",
   "metadata": {},
   "outputs": [
    {
     "name": "stdout",
     "output_type": "stream",
     "text": [
      "[1 2 3 4 5 6 7 8]\n",
      "[    1     2     3 10000 10000 10000 10000 10000]\n",
      "[1 2 3 4 5 6 7 8]\n"
     ]
    }
   ],
   "source": [
    "## when we use copy function to  copy array then there is no change reflect in orginal arra\n",
    "arr1=nm.array([1,2,3,4,5,6,7,8])\n",
    "print(arr1)\n",
    "arr3=arr1.copy()\n",
    "arr3[3:]=10000\n",
    "print(arr3)\n",
    "print(arr1)"
   ]
  },
  {
   "cell_type": "code",
   "execution_count": null,
   "id": "421579a6",
   "metadata": {},
   "outputs": [],
   "source": [
    "## copy function make new array \n",
    "## not share same memory location"
   ]
  },
  {
   "cell_type": "code",
   "execution_count": 6,
   "id": "69478e6e",
   "metadata": {},
   "outputs": [
    {
     "data": {
      "text/plain": [
       "array([ True, False, False, False, False, False, False, False, False,\n",
       "       False])"
      ]
     },
     "execution_count": 6,
     "metadata": {},
     "output_type": "execute_result"
    }
   ],
   "source": [
    "## some condition very useful in Exploratory Data Analysis\n",
    "val=2\n",
    "arr<2  ## check each and every element < 2 or not \n"
   ]
  },
  {
   "cell_type": "code",
   "execution_count": 10,
   "id": "7b4c8c07",
   "metadata": {},
   "outputs": [
    {
     "name": "stdout",
     "output_type": "stream",
     "text": [
      "[  2   4   6 200 200 200 200 200 200 200]\n"
     ]
    }
   ],
   "source": [
    "print(arr*2)"
   ]
  },
  {
   "cell_type": "code",
   "execution_count": 11,
   "id": "0d2d2aeb",
   "metadata": {},
   "outputs": [
    {
     "data": {
      "text/plain": [
       "array([  1,   2,   3, 100, 100, 100, 100, 100, 100, 100])"
      ]
     },
     "execution_count": 11,
     "metadata": {},
     "output_type": "execute_result"
    }
   ],
   "source": [
    "## if i want exact element which are less than \n",
    "arr[arr<300]"
   ]
  },
  {
   "cell_type": "code",
   "execution_count": 12,
   "id": "7b489017",
   "metadata": {},
   "outputs": [
    {
     "data": {
      "text/plain": [
       "array([1., 1., 1., 1.])"
      ]
     },
     "execution_count": 12,
     "metadata": {},
     "output_type": "execute_result"
    }
   ],
   "source": [
    "## nm.ones(4) create an array which is basically replaced 1\n",
    "nm.ones(4)"
   ]
  },
  {
   "cell_type": "code",
   "execution_count": 14,
   "id": "220cd50f",
   "metadata": {},
   "outputs": [
    {
     "data": {
      "text/plain": [
       "array([[1., 1., 1., 1., 1.],\n",
       "       [1., 1., 1., 1., 1.]])"
      ]
     },
     "execution_count": 14,
     "metadata": {},
     "output_type": "execute_result"
    }
   ],
   "source": [
    "nm.ones((2,5))"
   ]
  },
  {
   "cell_type": "code",
   "execution_count": 16,
   "id": "023d0f5f",
   "metadata": {},
   "outputs": [
    {
     "data": {
      "text/plain": [
       "array([[0.70763999, 0.95732714, 0.93270384],\n",
       "       [0.4687889 , 0.1514779 , 0.66563894],\n",
       "       [0.6592525 , 0.86519263, 0.22786474]])"
      ]
     },
     "execution_count": 16,
     "metadata": {},
     "output_type": "execute_result"
    }
   ],
   "source": [
    "## random distribution  rand(no. of row , no. of columns)\n",
    "nm.random.rand(3,3) ## three row and three column between 0 to 1"
   ]
  },
  {
   "cell_type": "code",
   "execution_count": 17,
   "id": "92e14dc3",
   "metadata": {},
   "outputs": [],
   "source": [
    "### randn()=> it will generate random standard normal distribution\n",
    "newarr=nm.random.randn(3,3)"
   ]
  },
  {
   "cell_type": "code",
   "execution_count": 18,
   "id": "3ad1afcd",
   "metadata": {},
   "outputs": [
    {
     "data": {
      "text/plain": [
       "array([[-1.35044905, -0.68515251, -0.10594394],\n",
       "       [ 1.59065267, -0.1270388 ,  0.12678458],\n",
       "       [-1.44118017,  0.34080798, -0.40108843]])"
      ]
     },
     "execution_count": 18,
     "metadata": {},
     "output_type": "execute_result"
    }
   ],
   "source": [
    "newarr"
   ]
  },
  {
   "cell_type": "code",
   "execution_count": 19,
   "id": "257eb7af",
   "metadata": {},
   "outputs": [
    {
     "data": {
      "text/plain": [
       "array([1, 1, 4, 0])"
      ]
     },
     "execution_count": 19,
     "metadata": {},
     "output_type": "execute_result"
    }
   ],
   "source": [
    "## randint(start,stop,n) it will select n number between start and stop\n",
    "nm.random.randint(0,5,4)"
   ]
  },
  {
   "cell_type": "code",
   "execution_count": null,
   "id": "c7a9005c",
   "metadata": {},
   "outputs": [],
   "source": [
    "## random_sample(a,b) also generate 0 to 1 a->rows b->columns"
   ]
  }
 ],
 "metadata": {
  "kernelspec": {
   "display_name": "Python 3 (ipykernel)",
   "language": "python",
   "name": "python3"
  },
  "language_info": {
   "codemirror_mode": {
    "name": "ipython",
    "version": 3
   },
   "file_extension": ".py",
   "mimetype": "text/x-python",
   "name": "python",
   "nbconvert_exporter": "python",
   "pygments_lexer": "ipython3",
   "version": "3.11.5"
  }
 },
 "nbformat": 4,
 "nbformat_minor": 5
}
