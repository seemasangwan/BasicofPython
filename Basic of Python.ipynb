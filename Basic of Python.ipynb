{
 "cells": [
  {
   "cell_type": "markdown",
   "id": "e8037b35",
   "metadata": {},
   "source": [
    "#  Various Data Types in Python\n",
    "\n",
    "\n",
    "\n"
   ]
  },
  {
   "cell_type": "markdown",
   "id": "934b0ec8",
   "metadata": {},
   "source": [
    "## 1 Numeric (int , float , complex)"
   ]
  },
  {
   "cell_type": "code",
   "execution_count": 2,
   "id": "34181edf",
   "metadata": {},
   "outputs": [
    {
     "data": {
      "text/plain": [
       "2"
      ]
     },
     "execution_count": 2,
     "metadata": {},
     "output_type": "execute_result"
    }
   ],
   "source": [
    "1+1"
   ]
  },
  {
   "cell_type": "code",
   "execution_count": 3,
   "id": "79ff2947",
   "metadata": {},
   "outputs": [
    {
     "data": {
      "text/plain": [
       "20"
      ]
     },
     "execution_count": 3,
     "metadata": {},
     "output_type": "execute_result"
    }
   ],
   "source": [
    "4*5\n"
   ]
  },
  {
   "cell_type": "code",
   "execution_count": 4,
   "id": "82193360",
   "metadata": {},
   "outputs": [
    {
     "data": {
      "text/plain": [
       "0.2"
      ]
     },
     "execution_count": 4,
     "metadata": {},
     "output_type": "execute_result"
    }
   ],
   "source": [
    "2/10\n"
   ]
  },
  {
   "cell_type": "code",
   "execution_count": 40,
   "id": "7966d29d",
   "metadata": {},
   "outputs": [
    {
     "name": "stdout",
     "output_type": "stream",
     "text": [
      "12.6 10 (5+2j)\n"
     ]
    }
   ],
   "source": [
    "a=12.6\n",
    "b=10\n",
    "c=2j+5\n",
    "print(a,b,c)"
   ]
  },
  {
   "cell_type": "code",
   "execution_count": 5,
   "id": "baef60d2",
   "metadata": {},
   "outputs": [
    {
     "data": {
      "text/plain": [
       "'seemaseemaseemaseemaseemaseemaseemaseemaseemaseema'"
      ]
     },
     "execution_count": 5,
     "metadata": {},
     "output_type": "execute_result"
    }
   ],
   "source": [
    "10*\"seema\""
   ]
  },
  {
   "cell_type": "markdown",
   "id": "65719b0e",
   "metadata": {},
   "source": [
    "##  type(x) is used to check data type\n"
   ]
  },
  {
   "cell_type": "code",
   "execution_count": 6,
   "id": "3528126e",
   "metadata": {},
   "outputs": [
    {
     "data": {
      "text/plain": [
       "int"
      ]
     },
     "execution_count": 6,
     "metadata": {},
     "output_type": "execute_result"
    }
   ],
   "source": [
    "type(1)"
   ]
  },
  {
   "cell_type": "code",
   "execution_count": 8,
   "id": "05ae066d",
   "metadata": {},
   "outputs": [
    {
     "data": {
      "text/plain": [
       "str"
      ]
     },
     "execution_count": 8,
     "metadata": {},
     "output_type": "execute_result"
    }
   ],
   "source": [
    "type(\"seema\")"
   ]
  },
  {
   "cell_type": "markdown",
   "id": "20682494",
   "metadata": {},
   "source": [
    "## 2 String str\n",
    "## there are mne inbuilt function for string \n",
    "## variable name . press tab "
   ]
  },
  {
   "cell_type": "code",
   "execution_count": 38,
   "id": "d6855f3a",
   "metadata": {},
   "outputs": [
    {
     "name": "stdout",
     "output_type": "stream",
     "text": [
      "True\n",
      "True\n",
      "False\n",
      "False\n",
      "False\n",
      "True\n",
      "False\n"
     ]
    }
   ],
   "source": [
    "\"Hello\" # use single quotes\n",
    "name=\"seema\"\n",
    "print(name.isalnum())# char and number\n",
    "print(name.isalpha()) # aplhabetic\n",
    "print(name.isdigit()) # digits\n",
    "print(name.istitle()) # title word\n",
    "print(name.isupper()) \n",
    "print(name.islower())\n",
    "print(name.isspace())\n"
   ]
  },
  {
   "cell_type": "code",
   "execution_count": 10,
   "id": "b3ad2e3f",
   "metadata": {},
   "outputs": [
    {
     "data": {
      "text/plain": [
       "'Hello'"
      ]
     },
     "execution_count": 10,
     "metadata": {},
     "output_type": "execute_result"
    }
   ],
   "source": [
    "'Hello' # use double quotes"
   ]
  },
  {
   "cell_type": "markdown",
   "id": "ab3b467e",
   "metadata": {},
   "source": [
    "## 3 Sequence types: list, tuple, range"
   ]
  },
  {
   "cell_type": "markdown",
   "id": "f7b15bd4",
   "metadata": {},
   "source": [
    "## list"
   ]
  },
  {
   "cell_type": "code",
   "execution_count": 42,
   "id": "050df9a0",
   "metadata": {},
   "outputs": [
    {
     "data": {
      "text/plain": [
       "list"
      ]
     },
     "execution_count": 42,
     "metadata": {},
     "output_type": "execute_result"
    }
   ],
   "source": [
    "#list \n",
    "# data structure \n",
    "# mutable->changeable\n",
    "# ordered sequence of elements\n",
    "# Each value in list called ->Item\n",
    "# values inside [] sqaure  brackets \n",
    "type([])"
   ]
  },
  {
   "cell_type": "code",
   "execution_count": 51,
   "id": "a0fb323a",
   "metadata": {},
   "outputs": [
    {
     "data": {
      "text/plain": [
       "list"
      ]
     },
     "execution_count": 51,
     "metadata": {},
     "output_type": "execute_result"
    }
   ],
   "source": [
    "list1=[] # inbuild function list() to create empty list\n",
    "type(list1)"
   ]
  },
  {
   "cell_type": "markdown",
   "id": "554c3aa3",
   "metadata": {},
   "source": [
    "## append()\n"
   ]
  },
  {
   "cell_type": "code",
   "execution_count": null,
   "id": "30b0ac3c",
   "metadata": {},
   "outputs": [],
   "source": [
    "list.append(\"Rohit\") # append()->add more item in last/end\n",
    "print(list)"
   ]
  },
  {
   "cell_type": "markdown",
   "id": "6054b568",
   "metadata": {},
   "source": [
    "## indexing()"
   ]
  },
  {
   "cell_type": "code",
   "execution_count": 60,
   "id": "26a15278",
   "metadata": {
    "scrolled": true
   },
   "outputs": [
    {
     "name": "stdout",
     "output_type": "stream",
     "text": [
      "5\n",
      "['seema', 18, 'wheat', 8, 'Good']\n",
      "['seema', 18, 'wheat', 8, 'Good', 'Rohit']\n",
      "wheat\n",
      "['seema', 18, 'wheat', 8, 'Good', 'Rohit']\n",
      "[18, 'wheat', 8, 'Good', 'Rohit']\n",
      "[18, 'wheat', 8]\n"
     ]
    }
   ],
   "source": [
    "list=[\"seema\",18,\"wheat\",8,\"Good\"] # comma separated values\n",
    "print(len(list)) # len()->inbuilt ->count of item\n",
    "print(list)\n",
    "\n",
    "# Indexing in list start from 0\n",
    "print(list[2])\n",
    "#indexing can be done from range\n",
    "print(list[:]) # :->pick all item\n",
    "print(list[1:]) # from 1 to all\n",
    "print(list[1:4]) # from start to end-1  --> 1 to 3"
   ]
  },
  {
   "cell_type": "markdown",
   "id": "f9163213",
   "metadata": {},
   "source": [
    "## insert()"
   ]
  },
  {
   "cell_type": "code",
   "execution_count": 62,
   "id": "2b1cc701",
   "metadata": {},
   "outputs": [
    {
     "name": "stdout",
     "output_type": "stream",
     "text": [
      "['sushila', 'seema', 18, 'wheat', 8, 'Good', 'Rohit']\n"
     ]
    }
   ],
   "source": [
    "# insert at specific index/order\n",
    "list.insert(0,\"sushila\")\n",
    "print(list)"
   ]
  },
  {
   "cell_type": "markdown",
   "id": "fae654d0",
   "metadata": {},
   "source": [
    "## extend()"
   ]
  },
  {
   "cell_type": "code",
   "execution_count": 66,
   "id": "7abb9dc6",
   "metadata": {},
   "outputs": [
    {
     "name": "stdout",
     "output_type": "stream",
     "text": [
      "[1, 'seema', 'rohit', 19]\n",
      "[1, 'seema', 'rohit', 19, 'maa', [1, 2, 3]]\n"
     ]
    }
   ],
   "source": [
    "mylist=[1,'seema']\n",
    "mylist.extend([\"rohit\",19]) # add more than one element and append at a time you insert one element\n",
    "print(mylist)\n",
    "mylist.extend([\"maa\",[1,2,3]])\n",
    "print(mylist)"
   ]
  },
  {
   "cell_type": "markdown",
   "id": "972dbe0f",
   "metadata": {},
   "source": [
    "## various operations that we can perform in list"
   ]
  },
  {
   "cell_type": "code",
   "execution_count": 71,
   "id": "cebbdf10",
   "metadata": {},
   "outputs": [
    {
     "name": "stdout",
     "output_type": "stream",
     "text": [
      "['sushila', 'seema', 18, 'wheat', 8, 'Good', 'Rohit']\n",
      "['sushila', 'seema', 18, 'wheat', 8, 'Good']\n",
      "['sushila', 18, 'wheat', 8, 'Good']\n"
     ]
    }
   ],
   "source": [
    "# pop() Method --->reomve last element\n",
    "mylist=['sushila', 'seema', 18, 'wheat', 8, 'Good', 'Rohit']\n",
    "print(mylist)\n",
    "mylist.pop()\n",
    "print(mylist)\n",
    "mylist.pop(1)   #-->remove element at index 0\n",
    "print(mylist)"
   ]
  },
  {
   "cell_type": "code",
   "execution_count": 74,
   "id": "a4134f5d",
   "metadata": {},
   "outputs": [
    {
     "data": {
      "text/plain": [
       "1"
      ]
     },
     "execution_count": 74,
     "metadata": {},
     "output_type": "execute_result"
    }
   ],
   "source": [
    "# count() count  of ans element in list\n",
    "mylist.count(\"Good\")"
   ]
  },
  {
   "cell_type": "code",
   "execution_count": 78,
   "id": "31003b32",
   "metadata": {},
   "outputs": [
    {
     "name": "stdout",
     "output_type": "stream",
     "text": [
      "3\n",
      "2\n",
      "6\n"
     ]
    }
   ],
   "source": [
    "# index(element ,start,end)  -->return first occurence of element b/w start to end\n",
    "lst=['1',2,1,'3','4',5,1 ,6,7,8]\n",
    "print(lst.index('3')) #-->bydefault start =0 and end is last index \n",
    "\n",
    "print(lst.index(1,2,9))\n",
    "print(lst.index(1,3,9))"
   ]
  },
  {
   "cell_type": "code",
   "execution_count": 81,
   "id": "074d6102",
   "metadata": {},
   "outputs": [
    {
     "name": "stdout",
     "output_type": "stream",
     "text": [
      "1\n",
      "4\n"
     ]
    }
   ],
   "source": [
    "# min() to find mini\n",
    "# max() to find max\n",
    "list1=['1','2','3','4']\n",
    "print(min(list1))\n",
    "print(max(list1))"
   ]
  },
  {
   "cell_type": "markdown",
   "id": "0e11f965",
   "metadata": {},
   "source": [
    "## Binary types: bytes, bytearray, memoryview."
   ]
  },
  {
   "cell_type": "markdown",
   "id": "379a14c2",
   "metadata": {},
   "source": [
    "##  4 Mapping data type: dict"
   ]
  },
  {
   "cell_type": "markdown",
   "id": "6d88d757",
   "metadata": {},
   "source": [
    "## 5  Boolean type: bool \n"
   ]
  },
  {
   "cell_type": "code",
   "execution_count": 32,
   "id": "f38285b0",
   "metadata": {},
   "outputs": [
    {
     "data": {
      "text/plain": [
       "bool"
      ]
     },
     "execution_count": 32,
     "metadata": {},
     "output_type": "execute_result"
    }
   ],
   "source": [
    "#  two values 1: true 2: false\n",
    "type(True)\n",
    "type(False)"
   ]
  },
  {
   "cell_type": "markdown",
   "id": "f4ba7563",
   "metadata": {},
   "source": [
    "## 6 Set Types:\tset, frozenset"
   ]
  },
  {
   "cell_type": "markdown",
   "id": "68346849",
   "metadata": {},
   "source": [
    "# Set"
   ]
  },
  {
   "cell_type": "code",
   "execution_count": null,
   "id": "7fb0ee2f",
   "metadata": {},
   "outputs": [],
   "source": [
    "# unordered collection of data type\n",
    "# mutable->changeable\n",
    "# no duplicate elemnt"
   ]
  },
  {
   "cell_type": "code",
   "execution_count": 83,
   "id": "9a21dbc9",
   "metadata": {},
   "outputs": [
    {
     "name": "stdout",
     "output_type": "stream",
     "text": [
      "set()\n"
     ]
    },
    {
     "data": {
      "text/plain": [
       "set"
      ]
     },
     "execution_count": 83,
     "metadata": {},
     "output_type": "execute_result"
    }
   ],
   "source": [
    "sett=set()\n",
    "print(sett)\n",
    "type(sett)"
   ]
  },
  {
   "cell_type": "code",
   "execution_count": 85,
   "id": "7b3c2c76",
   "metadata": {},
   "outputs": [
    {
     "name": "stdout",
     "output_type": "stream",
     "text": [
      "{'Rohit', 2, 'seema', 1}\n"
     ]
    }
   ],
   "source": [
    "# set creation {} are use element inside it\n",
    "sett={\"seema\",\"Rohit\",1,2,\"seema\"}; # remove duplicate and unorder\n",
    "print(sett)"
   ]
  },
  {
   "cell_type": "code",
   "execution_count": null,
   "id": "fb94d419",
   "metadata": {},
   "outputs": [],
   "source": [
    "#Indexing -->index()"
   ]
  },
  {
   "cell_type": "code",
   "execution_count": 86,
   "id": "0ce7072f",
   "metadata": {},
   "outputs": [
    {
     "ename": "TypeError",
     "evalue": "'set' object is not subscriptable",
     "output_type": "error",
     "traceback": [
      "\u001b[1;31m---------------------------------------------------------------------------\u001b[0m",
      "\u001b[1;31mTypeError\u001b[0m                                 Traceback (most recent call last)",
      "Cell \u001b[1;32mIn[86], line 1\u001b[0m\n\u001b[1;32m----> 1\u001b[0m \u001b[38;5;28mprint\u001b[39m(sett[\u001b[38;5;241m1\u001b[39m])\n",
      "\u001b[1;31mTypeError\u001b[0m: 'set' object is not subscriptable"
     ]
    }
   ],
   "source": [
    "print(sett[1])  # does not support indexing"
   ]
  },
  {
   "cell_type": "code",
   "execution_count": 89,
   "id": "6dc8cca2",
   "metadata": {},
   "outputs": [
    {
     "name": "stdout",
     "output_type": "stream",
     "text": [
      "{1, 2, 'Maa', 'seema', 'Rohit'}\n",
      "{1, 2, 3, 4, 5, 6, 7, 8, 10}\n",
      "{1, 3, 4}\n",
      "{2, 5, 6}\n"
     ]
    }
   ],
   "source": [
    "# add()->used to add elemnt in set\n",
    "sett.add(\"Maa\")\n",
    "print(sett)\n",
    "set1={1,2,3,4,5,6}\n",
    "set2={1,3,4,7,8,10}\n",
    "print(set1.union(set2)) # union -->not update in original set1 \n",
    "print(set1.intersection(set2)) # intersection not update in original set1\n",
    "print(set1.difference(set2))  # difference not update in original set1"
   ]
  },
  {
   "cell_type": "markdown",
   "id": "5675f19a",
   "metadata": {},
   "source": [
    "##  Dictionary"
   ]
  },
  {
   "cell_type": "code",
   "execution_count": 90,
   "id": "3db93981",
   "metadata": {},
   "outputs": [
    {
     "name": "stdout",
     "output_type": "stream",
     "text": [
      "{'car': 'swift desire', 'Truck': 'dadanimnath', 'Bike': 'splender'}\n",
      "<class 'dict'>\n"
     ]
    }
   ],
   "source": [
    "# dic  -->key -value pair\n",
    "my_dic={\"car\":\"swift desire\",\"Truck\":\"dadanimnath\",\"Bike\":\"splender\"}\n",
    "print(my_dic);\n",
    "print(type(my_dic))"
   ]
  },
  {
   "cell_type": "markdown",
   "id": "9a9dc423",
   "metadata": {},
   "source": [
    "\n"
   ]
  },
  {
   "cell_type": "code",
   "execution_count": 91,
   "id": "11df1a59",
   "metadata": {},
   "outputs": [
    {
     "name": "stdout",
     "output_type": "stream",
     "text": [
      "swift desire\n"
     ]
    }
   ],
   "source": [
    "# how to access value using key\n",
    "print(my_dic['car'])"
   ]
  },
  {
   "cell_type": "code",
   "execution_count": 99,
   "id": "f571cb43",
   "metadata": {},
   "outputs": [
    {
     "name": "stdout",
     "output_type": "stream",
     "text": [
      "car\n",
      "Truck\n",
      "Bike\n",
      "swift desire\n",
      "dadanimnath\n",
      "splender\n",
      "('car', 'swift desire')\n",
      "('Truck', 'dadanimnath')\n",
      "('Bike', 'splender')\n",
      "{'car': 'i10', 'Truck': 'dadanimnath', 'Bike': 'splender'}\n"
     ]
    }
   ],
   "source": [
    "for x in my_dic:\n",
    "    print(x)\n",
    "for x in my_dic.values():\n",
    "    print(x)\n",
    "for x in my_dic.items():\n",
    "   print(x)\n",
    "my_dic[\"car\"]=\"i10\" # overwritten\n",
    "print(my_dic)"
   ]
  },
  {
   "cell_type": "code",
   "execution_count": 103,
   "id": "fbe48cc7",
   "metadata": {},
   "outputs": [
    {
     "name": "stdout",
     "output_type": "stream",
     "text": [
      "1980\n"
     ]
    }
   ],
   "source": [
    "# Nested dictionary\n",
    "car1_model={\"swift\":1980}\n",
    "car2_model={\"breja\":2000}\n",
    "car3_model={\"thar\":2023}\n",
    "mydic={'car1':car1_model,'car2':car2_model,'car3':car3_model}\n",
    "print(mydic['car1'][\"swift\"])\n",
    "\n"
   ]
  },
  {
   "cell_type": "code",
   "execution_count": null,
   "id": "38f1ba24",
   "metadata": {},
   "outputs": [],
   "source": []
  },
  {
   "cell_type": "markdown",
   "id": "a426a25a",
   "metadata": {},
   "source": [
    "# tuple"
   ]
  },
  {
   "cell_type": "code",
   "execution_count": 104,
   "id": "0cc22e22",
   "metadata": {},
   "outputs": [
    {
     "name": "stdout",
     "output_type": "stream",
     "text": [
      "(1, 2, 3, 4, 5, 6)\n",
      "4\n"
     ]
    }
   ],
   "source": [
    "# use () braces \n",
    "# you can not change tuple\n",
    "# indexing is valid\n",
    "mytuple=(1,2,3,4,5,6)\n",
    "print(mytuple)\n",
    "print(mytuple[3])\n",
    "# does not support  item assigment like mytuple[3]=\"seema\"\n",
    "# you can change tuple whole tuple\n",
    "# index()\n",
    "# count()"
   ]
  },
  {
   "cell_type": "markdown",
   "id": "1ee62bbd",
   "metadata": {},
   "source": [
    "## 7 Binary Types:\tbytes, bytearray, memoryview"
   ]
  },
  {
   "cell_type": "markdown",
   "id": "dbf87d89",
   "metadata": {},
   "source": [
    "## 8 None Type:\tNoneType"
   ]
  },
  {
   "cell_type": "markdown",
   "id": "c30167ff",
   "metadata": {},
   "source": [
    "## Variable assignment "
   ]
  },
  {
   "cell_type": "code",
   "execution_count": 11,
   "id": "920889b4",
   "metadata": {},
   "outputs": [],
   "source": [
    "#syntax\n",
    "# var_name=value\n",
    "a=10"
   ]
  },
  {
   "cell_type": "code",
   "execution_count": 12,
   "id": "93135e63",
   "metadata": {},
   "outputs": [
    {
     "data": {
      "text/plain": [
       "int"
      ]
     },
     "execution_count": 12,
     "metadata": {},
     "output_type": "execute_result"
    }
   ],
   "source": [
    "type(a)"
   ]
  },
  {
   "cell_type": "code",
   "execution_count": 13,
   "id": "7f38f809",
   "metadata": {},
   "outputs": [],
   "source": [
    "a=\"seema\""
   ]
  },
  {
   "cell_type": "code",
   "execution_count": 14,
   "id": "7cf89876",
   "metadata": {},
   "outputs": [
    {
     "data": {
      "text/plain": [
       "str"
      ]
     },
     "execution_count": 14,
     "metadata": {},
     "output_type": "execute_result"
    }
   ],
   "source": [
    "type(a)"
   ]
  },
  {
   "cell_type": "code",
   "execution_count": 15,
   "id": "e35a9f69",
   "metadata": {},
   "outputs": [
    {
     "name": "stdout",
     "output_type": "stream",
     "text": [
      "seema\n",
      "seema\n",
      "40\n",
      "78.9\n",
      "True\n"
     ]
    }
   ],
   "source": [
    "# Print() function is used to print anything\n",
    "print(a)\n",
    "print(\"seema\")\n",
    "print(40)\n",
    "print(78.9)\n",
    "print(True)"
   ]
  },
  {
   "cell_type": "code",
   "execution_count": null,
   "id": "8e42c989",
   "metadata": {},
   "outputs": [],
   "source": [
    "## various ways of printing"
   ]
  },
  {
   "cell_type": "code",
   "execution_count": 20,
   "id": "ce190625",
   "metadata": {},
   "outputs": [],
   "source": [
    "first_name='seema'\n",
    "last_name='sangwan'\n"
   ]
  },
  {
   "cell_type": "code",
   "execution_count": 21,
   "id": "fecbf473",
   "metadata": {},
   "outputs": [
    {
     "name": "stdout",
     "output_type": "stream",
     "text": [
      "my first name is seema and last name issangwan\n"
     ]
    }
   ],
   "source": [
    "print(\"my first name is {first} and last name is {last}\".format(first=first_name,last=last_name))"
   ]
  },
  {
   "cell_type": "code",
   "execution_count": 22,
   "id": "707fd09f",
   "metadata": {},
   "outputs": [
    {
     "name": "stdout",
     "output_type": "stream",
     "text": [
      "my first name is seema and my last name is sangwan \n"
     ]
    }
   ],
   "source": [
    "print(\"my first name is {} and my last name is {} \".format(first_name,last_name))"
   ]
  },
  {
   "cell_type": "code",
   "execution_count": 23,
   "id": "4cf1b4fa",
   "metadata": {},
   "outputs": [
    {
     "name": "stdout",
     "output_type": "stream",
     "text": [
      "my first name is seema and last name is sangwan\n"
     ]
    }
   ],
   "source": [
    "print(\"my first name is {first} and last name is {last}\".format(last=last_name,first=first_name))"
   ]
  },
  {
   "cell_type": "code",
   "execution_count": 25,
   "id": "9cca8e05",
   "metadata": {},
   "outputs": [
    {
     "data": {
      "text/plain": [
       "7"
      ]
     },
     "execution_count": 25,
     "metadata": {},
     "output_type": "execute_result"
    }
   ],
   "source": [
    "# len() give length of string\n",
    "len(\"seema\")\n",
    "a=\"sangwan\"\n",
    "len(a)"
   ]
  },
  {
   "cell_type": "code",
   "execution_count": 26,
   "id": "be13795e",
   "metadata": {},
   "outputs": [
    {
     "data": {
      "text/plain": [
       "float"
      ]
     },
     "execution_count": 26,
     "metadata": {},
     "output_type": "execute_result"
    }
   ],
   "source": [
    "type(1.0)"
   ]
  },
  {
   "cell_type": "code",
   "execution_count": 27,
   "id": "f4b2979b",
   "metadata": {},
   "outputs": [
    {
     "data": {
      "text/plain": [
       "list"
      ]
     },
     "execution_count": 27,
     "metadata": {},
     "output_type": "execute_result"
    }
   ],
   "source": [
    "# List is collection of data need not to be of same type\n",
    "#can have differemt data type like int , float,bool, string\n",
    "# syntax a=[data]\n",
    "type(['seema',18,'IGDTUW' ,3,2025])"
   ]
  },
  {
   "cell_type": "markdown",
   "id": "e6e56c4b",
   "metadata": {},
   "source": [
    "## Logical operators"
   ]
  },
  {
   "cell_type": "code",
   "execution_count": 41,
   "id": "a03f23e7",
   "metadata": {},
   "outputs": [
    {
     "name": "stdout",
     "output_type": "stream",
     "text": [
      "True\n",
      "False\n",
      "False\n",
      "False\n",
      "True\n",
      "True\n",
      "True\n",
      "False\n"
     ]
    }
   ],
   "source": [
    "## and ,or\n",
    "## and all true->true\n",
    "## or  atleast one true->true\n",
    "print(True and True) ##true\n",
    "print(True and False) ##false\n",
    "print(False and True)  ##false\n",
    "print(False and False)  ##false\n",
    "print(True or True)   #true\n",
    "print(True or False)  #true\n",
    "print(False or True)   #true\n",
    "print(False or False)   ##false"
   ]
  },
  {
   "cell_type": "markdown",
   "id": "04a412d8",
   "metadata": {},
   "source": [
    "## Sets\n"
   ]
  },
  {
   "cell_type": "markdown",
   "id": "63fa5c30",
   "metadata": {},
   "source": [
    "##  Numpy Library"
   ]
  },
  {
   "cell_type": "code",
   "execution_count": null,
   "id": "c71e573b",
   "metadata": {},
   "outputs": [],
   "source": [
    "# NumPy is a general purpose array processing package . \n",
    "# use to create multi dimesional array and inbuilt functiom"
   ]
  },
  {
   "cell_type": "raw",
   "id": "527a207b",
   "metadata": {},
   "source": [
    "what is an array\n",
    "An array is a data structure that stores values of same data type\n",
    "diff b/w arra and list\n",
    "array->store same kind of data\n",
    "list->store diff type of data"
   ]
  },
  {
   "cell_type": "raw",
   "id": "e39efeea",
   "metadata": {},
   "source": [
    "pip install numpy\n",
    "conda install numpy\n"
   ]
  },
  {
   "cell_type": "code",
   "execution_count": 3,
   "id": "89a23725",
   "metadata": {},
   "outputs": [],
   "source": [
    " # Initailly lets import numpy\n",
    "import numpy as np"
   ]
  },
  {
   "cell_type": "code",
   "execution_count": 109,
   "id": "1c49096f",
   "metadata": {},
   "outputs": [
    {
     "name": "stdout",
     "output_type": "stream",
     "text": [
      "<class 'numpy.ndarray'>\n",
      "[1 2 3 4 5]\n"
     ]
    }
   ],
   "source": [
    "mylst=[1,2,3,4,5]\n",
    "arr=np.array(mylst) # array()--->inbuilt function to create\n",
    "print(type(arr))\n",
    "print(arr)"
   ]
  },
  {
   "cell_type": "code",
   "execution_count": 110,
   "id": "24369323",
   "metadata": {},
   "outputs": [
    {
     "data": {
      "text/plain": [
       "array([1, 2, 3, 4, 5])"
      ]
     },
     "execution_count": 110,
     "metadata": {},
     "output_type": "execute_result"
    }
   ],
   "source": [
    "arr  # one d array\n"
   ]
  },
  {
   "cell_type": "code",
   "execution_count": 111,
   "id": "186f97b0",
   "metadata": {},
   "outputs": [
    {
     "data": {
      "text/plain": [
       "(5,)"
      ]
     },
     "execution_count": 111,
     "metadata": {},
     "output_type": "execute_result"
    }
   ],
   "source": [
    "arr.shape # now of row and col\n"
   ]
  },
  {
   "cell_type": "code",
   "execution_count": 5,
   "id": "284ccf8f",
   "metadata": {},
   "outputs": [
    {
     "name": "stdout",
     "output_type": "stream",
     "text": [
      "[[ 1  2  3  4]\n",
      " [ 5  6  7  8]\n",
      " [ 9 10 11 12]]\n"
     ]
    }
   ],
   "source": [
    "# multi dimesional array\n",
    "lst1=[1,2,3,4]\n",
    "lst2=[5,6,7,8]\n",
    "lst3=[9,10,11,12]\n",
    "arr=np.array([lst1,lst2,lst3])\n",
    "print(arr)"
   ]
  },
  {
   "cell_type": "code",
   "execution_count": 6,
   "id": "a13e52ec",
   "metadata": {},
   "outputs": [
    {
     "data": {
      "text/plain": [
       "(3, 4)"
      ]
     },
     "execution_count": 6,
     "metadata": {},
     "output_type": "execute_result"
    }
   ],
   "source": [
    "arr.shape"
   ]
  },
  {
   "cell_type": "code",
   "execution_count": 7,
   "id": "bb810713",
   "metadata": {},
   "outputs": [
    {
     "data": {
      "text/plain": [
       "array([[ 1,  2,  3],\n",
       "       [ 4,  5,  6],\n",
       "       [ 7,  8,  9],\n",
       "       [10, 11, 12]])"
      ]
     },
     "execution_count": 7,
     "metadata": {},
     "output_type": "execute_result"
    }
   ],
   "source": [
    "\n",
    "arr.reshape(4,3)\n",
    "\n"
   ]
  },
  {
   "cell_type": "code",
   "execution_count": 8,
   "id": "536decbf",
   "metadata": {},
   "outputs": [
    {
     "ename": "ValueError",
     "evalue": "cannot reshape array of size 12 into shape (5,3)",
     "output_type": "error",
     "traceback": [
      "\u001b[1;31m---------------------------------------------------------------------------\u001b[0m",
      "\u001b[1;31mValueError\u001b[0m                                Traceback (most recent call last)",
      "Cell \u001b[1;32mIn[8], line 1\u001b[0m\n\u001b[1;32m----> 1\u001b[0m arr\u001b[38;5;241m.\u001b[39mreshape(\u001b[38;5;241m5\u001b[39m,\u001b[38;5;241m3\u001b[39m)\n",
      "\u001b[1;31mValueError\u001b[0m: cannot reshape array of size 12 into shape (5,3)"
     ]
    }
   ],
   "source": [
    "arr.reshape(5,3)"
   ]
  },
  {
   "cell_type": "code",
   "execution_count": null,
   "id": "f6096c62",
   "metadata": {},
   "outputs": [],
   "source": [
    "Indexing "
   ]
  },
  {
   "cell_type": "code",
   "execution_count": 9,
   "id": "312358d5",
   "metadata": {},
   "outputs": [
    {
     "data": {
      "text/plain": [
       "4"
      ]
     },
     "execution_count": 9,
     "metadata": {},
     "output_type": "execute_result"
    }
   ],
   "source": [
    "# 1D array\n",
    "arr=np.array([1,2,3,4,5,6,7,8,9,10])\n",
    "arr[3]\n"
   ]
  },
  {
   "cell_type": "code",
   "execution_count": 10,
   "id": "22812c0f",
   "metadata": {},
   "outputs": [
    {
     "data": {
      "text/plain": [
       "array([[1, 2, 3],\n",
       "       [4, 5, 6],\n",
       "       [7, 8, 9]])"
      ]
     },
     "execution_count": 10,
     "metadata": {},
     "output_type": "execute_result"
    }
   ],
   "source": [
    "# 2d Indxing\n",
    "arr=np.array([[1,2,3],[4,5,6],[7,8,9]])\n",
    "arr"
   ]
  },
  {
   "cell_type": "code",
   "execution_count": 17,
   "id": "cd92612f",
   "metadata": {},
   "outputs": [
    {
     "name": "stdout",
     "output_type": "stream",
     "text": [
      "[[1 2 3]\n",
      " [4 5 6]\n",
      " [7 8 9]]\n",
      "[[3]\n",
      " [6]\n",
      " [9]]\n"
     ]
    }
   ],
   "source": [
    "#indexing in 2d array\n",
    "# lhs->row no.\n",
    "# rhs->column no.\n",
    "# :,: access all row and column\n",
    "#:, c: access all column c or after c\n",
    "print(  arr[:,:])\n",
    "print(arr[:,2:])"
   ]
  },
  {
   "cell_type": "code",
   "execution_count": 3,
   "id": "86ffc302",
   "metadata": {},
   "outputs": [
    {
     "name": "stdout",
     "output_type": "stream",
     "text": [
      "[1 2 3 4 5]\n",
      "[[ 1  2  3  4  5]\n",
      " [ 6  7  8  9 10]]\n"
     ]
    }
   ],
   "source": [
    "import numpy as nm\n",
    "list =[1,2,3,4,5]\n",
    "arr=nm.array(list)\n",
    "print(arr)\n",
    "listt=[6,7,8,9,10]\n",
    "arrw=nm.array([list,listt])\n",
    "print(arrw)"
   ]
  },
  {
   "cell_type": "markdown",
   "id": "3338c4aa",
   "metadata": {},
   "source": [
    "arrw.reshape(5,2)\n"
   ]
  },
  {
   "cell_type": "markdown",
   "id": "2855f08f",
   "metadata": {},
   "source": [
    "# Indexing in array (learn how to reteriew data from array)\n",
    "# o based indexing "
   ]
  },
  {
   "cell_type": "code",
   "execution_count": 7,
   "id": "85998cc9",
   "metadata": {},
   "outputs": [
    {
     "name": "stdout",
     "output_type": "stream",
     "text": [
      "1\n",
      "2\n",
      "3\n",
      "4\n",
      "5\n",
      "6\n",
      "7\n",
      "8\n"
     ]
    }
   ],
   "source": [
    "array=nm.array([1,2,3,4,5,6,7,8]);\n",
    "for i in array:\n",
    "    print(i)"
   ]
  },
  {
   "cell_type": "code",
   "execution_count": 9,
   "id": "019d4c3e",
   "metadata": {},
   "outputs": [
    {
     "name": "stdout",
     "output_type": "stream",
     "text": [
      "1\n",
      "2\n",
      "3\n",
      "4\n",
      "5\n",
      "6\n",
      "7\n",
      "8\n"
     ]
    }
   ],
   "source": [
    "i=0 \n",
    "while(i<len(array)):\n",
    "    print(array[i])\n",
    "    i=i+1\n",
    "  "
   ]
  },
  {
   "cell_type": "code",
   "execution_count": null,
   "id": "c47578f3",
   "metadata": {},
   "outputs": [],
   "source": []
  },
  {
   "cell_type": "code",
   "execution_count": null,
   "id": "795760db",
   "metadata": {},
   "outputs": [],
   "source": []
  },
  {
   "cell_type": "code",
   "execution_count": 10,
   "id": "587243e1",
   "metadata": {},
   "outputs": [
    {
     "name": "stdout",
     "output_type": "stream",
     "text": [
      "5\n"
     ]
    }
   ],
   "source": [
    "print(array[4])"
   ]
  },
  {
   "cell_type": "markdown",
   "id": "f7933cd1",
   "metadata": {},
   "source": [
    "#  indxing in 2d array"
   ]
  },
  {
   "cell_type": "code",
   "execution_count": 11,
   "id": "131e73bb",
   "metadata": {},
   "outputs": [
    {
     "name": "stdout",
     "output_type": "stream",
     "text": [
      "1\n",
      "2\n",
      "3\n",
      "4\n",
      "5\n",
      "6\n",
      "7\n",
      "8\n",
      "9\n",
      "10\n"
     ]
    }
   ],
   "source": [
    "array=nm.array([[1,2,3,4,5],[6,7,8,9,10]])\n",
    "for i in array:\n",
    "    for j in i:\n",
    "        print(j)"
   ]
  },
  {
   "cell_type": "code",
   "execution_count": 13,
   "id": "1bec7cc4",
   "metadata": {},
   "outputs": [
    {
     "name": "stdout",
     "output_type": "stream",
     "text": [
      "[1 2 3 4 5]\n",
      "[ 6  7  8  9 10]\n"
     ]
    }
   ],
   "source": [
    "for i in array:\n",
    "    print (i)\n"
   ]
  },
  {
   "cell_type": "code",
   "execution_count": 14,
   "id": "fe94c6c6",
   "metadata": {},
   "outputs": [
    {
     "name": "stdout",
     "output_type": "stream",
     "text": [
      "8\n"
     ]
    }
   ],
   "source": [
    "print(array[1][2])"
   ]
  },
  {
   "cell_type": "raw",
   "id": "e110061f",
   "metadata": {},
   "source": [
    "  Another way to create is to use\n",
    "  arange function in numpy\n",
    "  arrange(start,stop,step)\n",
    "  start=>lower range\n",
    "  stop=>upper range \n",
    "  step==> by which step we have to increase\n",
    "  "
   ]
  },
  {
   "cell_type": "code",
   "execution_count": 22,
   "id": "1d80520a",
   "metadata": {},
   "outputs": [
    {
     "ename": "SyntaxError",
     "evalue": "invalid syntax (3155855143.py, line 1)",
     "output_type": "error",
     "traceback": [
      "\u001b[1;36m  Cell \u001b[1;32mIn[22], line 1\u001b[1;36m\u001b[0m\n\u001b[1;33m    pip install numpy\u001b[0m\n\u001b[1;37m        ^\u001b[0m\n\u001b[1;31mSyntaxError\u001b[0m\u001b[1;31m:\u001b[0m invalid syntax\n"
     ]
    }
   ],
   "source": [
    "pip install numpy\n",
    "\n",
    "\n"
   ]
  },
  {
   "cell_type": "code",
   "execution_count": 23,
   "id": "4e57d2af",
   "metadata": {},
   "outputs": [],
   "source": [
    "import numpy as nm"
   ]
  },
  {
   "cell_type": "code",
   "execution_count": 25,
   "id": "9aeb69a0",
   "metadata": {},
   "outputs": [
    {
     "name": "stdout",
     "output_type": "stream",
     "text": [
      "[0 1 2 3 4 5 6 7 8 9]\n",
      "[0 2 4 6 8]\n"
     ]
    }
   ],
   "source": [
    "array1=nm.arange(0,10)\n",
    "print(array1)\n",
    "array2=nm.arange(0,10,2)\n",
    "print(array2)"
   ]
  },
  {
   "cell_type": "raw",
   "id": "a9f381e1",
   "metadata": {},
   "source": [
    " next is linspace() also used to create array\n",
    " linspace(start,end,number)\n",
    " start=lower value\n",
    " end=higher value\n",
    " "
   ]
  },
  {
   "cell_type": "code",
   "execution_count": 29,
   "id": "bfb2d407",
   "metadata": {},
   "outputs": [
    {
     "name": "stdout",
     "output_type": "stream",
     "text": [
      "[ 0.   2.5  5.   7.5 10. ]\n",
      "[ 1.    3.25  5.5   7.75 10.  ]\n"
     ]
    }
   ],
   "source": [
    "array3=nm.linspace(0,10,5)\n",
    "print(array3)\n",
    "array4=nm.linspace(1,10,5)\n",
    "print(array4)"
   ]
  },
  {
   "cell_type": "code",
   "execution_count": null,
   "id": "c16deb99",
   "metadata": {},
   "outputs": [],
   "source": []
  }
 ],
 "metadata": {
  "kernelspec": {
   "display_name": "Python 3 (ipykernel)",
   "language": "python",
   "name": "python3"
  },
  "language_info": {
   "codemirror_mode": {
    "name": "ipython",
    "version": 3
   },
   "file_extension": ".py",
   "mimetype": "text/x-python",
   "name": "python",
   "nbconvert_exporter": "python",
   "pygments_lexer": "ipython3",
   "version": "3.11.5"
  }
 },
 "nbformat": 4,
 "nbformat_minor": 5
}
